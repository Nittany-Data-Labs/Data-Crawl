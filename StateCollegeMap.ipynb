{
  "nbformat": 4,
  "nbformat_minor": 0,
  "metadata": {
    "colab": {
      "provenance": [],
      "authorship_tag": "ABX9TyMzwEhMIKnypkIbwm1DiS53",
      "include_colab_link": true
    },
    "kernelspec": {
      "name": "python3",
      "display_name": "Python 3"
    },
    "language_info": {
      "name": "python"
    }
  },
  "cells": [
    {
      "cell_type": "markdown",
      "metadata": {
        "id": "view-in-github",
        "colab_type": "text"
      },
      "source": [
        "<a href=\"https://colab.research.google.com/github/Nittany-Data-Labs/Data-Crawl/blob/main/StateCollegeMap.ipynb\" target=\"_parent\"><img src=\"https://colab.research.google.com/assets/colab-badge.svg\" alt=\"Open In Colab\"/></a>"
      ]
    },
    {
      "cell_type": "markdown",
      "source": [
        "[Credit](https://colab.research.google.com/github/la-counts/data-adventures/blob/master/Instructable_6_How_to_Map_Geographic_Data_Using_Coordinates.ipynb#scrollTo=sxb7cAsfVNuY)"
      ],
      "metadata": {
        "id": "nm_DRYRDl07D"
      }
    },
    {
      "cell_type": "markdown",
      "source": [
        "Guide to making a map with plot.ly api and the mapbox api"
      ],
      "metadata": {
        "id": "Ey5rypnCl78V"
      }
    },
    {
      "cell_type": "markdown",
      "source": [
        "1. Register for a Plotly account at https://plot.ly/feed – click on “sign up.”\n",
        "2. Generate an API key at https://plot.ly/settings/api – copy and paste the “API Key” and “Username” fields to the Jupyter Notebook in the appropriate place.\n",
        "3. Register for a Mapbox account at https://account.mapbox.com/auth/signup/ \n",
        "4. Generate an API key at https://account.mapbox.com/ – copy and paste the “default public token\" to the space below, along with the Plotly username and API key from above. "
      ],
      "metadata": {
        "id": "sReps4ZYlEaO"
      }
    },
    {
      "cell_type": "code",
      "execution_count": null,
      "metadata": {
        "id": "8W-_1p7LkxQl"
      },
      "outputs": [],
      "source": [
        "#!pip install chart-studio\n",
        "import chart_studio\n",
        "import chart_studio.plotly as py\n",
        "import plotly.figure_factory as ff\n",
        "import chart_studio.tools as tl\n",
        "import plotly.graph_objs as go\n",
        "import pandas as pd"
      ]
    },
    {
      "cell_type": "code",
      "source": [
        "bar_general = pd.read_csv('https://raw.githubusercontent.com/Nittany-Data-Labs/Data-Crawl/main/data/StateCollegeDataCrawl.csv', index_col=0)"
      ],
      "metadata": {
        "id": "Uha80nU0lbM9"
      },
      "execution_count": null,
      "outputs": []
    },
    {
      "cell_type": "code",
      "source": [
        "# Change API key for Plotly \n",
        "\n",
        "tl.set_credentials_file(username='',      #Insert Plot.ly username\n",
        "                        api_key='')       #Insert Plot.ly api key\n",
        "\n",
        "# Add Mapbox access token here \n",
        "\n",
        "mapbox_access_token = ''      #Insert Mapbox Default public token\n",
        "\n",
        "# Save latitude and longitude as variables.\n",
        "site_lat = bar_general.Latitude\n",
        "site_lon = bar_general.Longitude\n",
        "locations_name = bar_general['Place Name']\n",
        "\n",
        "# Generate the data for the map \n",
        "data = [\n",
        "    go.Scattermapbox(\n",
        "        lat=site_lat,\n",
        "        lon=site_lon,\n",
        "        mode='markers',\n",
        "        marker=dict(\n",
        "            size=3,\n",
        "            color='rgb(255, 0, 0)',\n",
        "            opacity=1\n",
        "        ),\n",
        "        text=locations_name,\n",
        "        hoverinfo='text'\n",
        "    ),\n",
        "    go.Scattermapbox(\n",
        "        lat=site_lat,\n",
        "        lon=site_lon,\n",
        "        mode='markers',\n",
        "        marker=dict(\n",
        "            size=8,\n",
        "            color='rgb(242, 177, 172)',\n",
        "            opacity=0.8\n",
        "        ),\n",
        "        hoverinfo='none'\n",
        "    )]\n",
        "\n",
        "\n",
        "layout = go.Layout(\n",
        "    title='State College Bars',\n",
        "    autosize=True,\n",
        "    hovermode='closest',\n",
        "    showlegend=False,\n",
        "    mapbox=dict(\n",
        "        accesstoken=mapbox_access_token,\n",
        "        bearing=0,\n",
        "        center=dict(\n",
        "            lat=40.7956,\n",
        "            lon=-77.8597\n",
        "        ),\n",
        "        pitch=0,\n",
        "        zoom=15,\n",
        "        style='light'\n",
        "    ),\n",
        ")\n",
        "\n",
        "fig = dict(data=data, layout=layout)\n",
        "py.iplot(fig, filename='State College Bars')"
      ],
      "metadata": {
        "id": "5SQ78VwRk9FA"
      },
      "execution_count": null,
      "outputs": []
    }
  ]
}