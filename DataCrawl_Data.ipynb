{
  "nbformat": 4,
  "nbformat_minor": 0,
  "metadata": {
    "colab": {
      "provenance": [],
      "collapsed_sections": []
    },
    "kernelspec": {
      "name": "python3",
      "display_name": "Python 3"
    },
    "language_info": {
      "name": "python"
    }
  },
  "cells": [
    {
      "cell_type": "markdown",
      "source": [
        "# State College Data Crawl - Getting the Data\n",
        "Work with data focused on the bars of downtown State College"
      ],
      "metadata": {
        "id": "3S4IJZ-hYMkW"
      }
    },
    {
      "cell_type": "code",
      "source": [
        "import pandas as pd, numpy as np\n",
        "import requests\n",
        "import json\n",
        "import time"
      ],
      "metadata": {
        "id": "TVMCzKeFAdx8"
      },
      "execution_count": 3,
      "outputs": []
    },
    {
      "cell_type": "markdown",
      "source": [
        "## Set Parameters"
      ],
      "metadata": {
        "id": "Rk6xAXPPYl4T"
      }
    },
    {
      "cell_type": "code",
      "source": [
        "coordinates = ['40.7956, -77.8597']\n",
        "keywords = ['bar']      \n",
        "radius = '.7'           #km \n",
        "api_key = input()        #insert your Places API"
      ],
      "metadata": {
        "id": "ImWc0Q0cAiaO"
      },
      "execution_count": null,
      "outputs": []
    },
    {
      "cell_type": "markdown",
      "source": [
        "# Places API\n",
        "using Google Maps' Places API through Google Cloud"
      ],
      "metadata": {
        "id": "zyBfYj0PcYct"
      }
    },
    {
      "cell_type": "code",
      "source": [
        "url = 'https://maps.googleapis.com/maps/api/place/nearbysearch/json?location='+coordinates[0]+'&radius='+str(radius)+'&keyword='+str(keywords[0])+'&key='+str(api_key)\n",
        "\n",
        "respon = requests.get(url)\n",
        "jj = json.loads(respon.text)\n",
        "temp = jj['results']"
      ],
      "metadata": {
        "id": "-B2sfNcT3tTK"
      },
      "execution_count": 11,
      "outputs": []
    },
    {
      "cell_type": "code",
      "source": [
        "final_data = []\n",
        "place_id_lst = []\n",
        "for result in temp:             \n",
        "    name = result['name']\n",
        "    place_id = result['place_id']\n",
        "    lat = result['geometry']['location']['lat']\n",
        "    lng = result['geometry']['location']['lng']\n",
        "    rating = result['rating']\n",
        "    types = result['types']\n",
        "    vicinity = result['vicinity']\n",
        "    if place_id not in place_id_lst:\n",
        "      place_id_lst.append(place_id)\n",
        "      data = [name, place_id, lat, lng, rating, types, vicinity]\n",
        "      final_data.append(data)"
      ],
      "metadata": {
        "id": "Ks9qhhkZ33uD"
      },
      "execution_count": 6,
      "outputs": []
    },
    {
      "cell_type": "markdown",
      "source": [
        "## Export Bar Data"
      ],
      "metadata": {
        "id": "o80mSOYyg9jA"
      }
    },
    {
      "cell_type": "code",
      "source": [
        "labels = ['Place Name','Place ID', 'Latitude', 'Longitude', 'Rating', 'Types', 'Vicinity']\n",
        "df = pd.DataFrame.from_records(final_data, columns=labels)\n",
        "df.to_csv('StateCollegeDataCrawl.csv')"
      ],
      "metadata": {
        "id": "wu_EOpt614Hk"
      },
      "execution_count": 7,
      "outputs": []
    },
    {
      "cell_type": "markdown",
      "source": [
        "# Distance Matrix\n",
        "https://developers.google.com/maps/documentation/distance-matrix/distance-matrix"
      ],
      "metadata": {
        "id": "PZkn5EOV4y-H"
      }
    },
    {
      "cell_type": "code",
      "source": [
        "distance_matrix = []\n",
        "label = ['']\n",
        "location = ['']\n",
        "\n",
        "#list of bar names\n",
        "for i in df['Place Name']:\n",
        "  label.append(i)\n",
        "\n",
        "#list of place id\n",
        "for i in df['Place ID']:\n",
        "  location.append(i)\n",
        "\n",
        "#creating a matrix requires a nested for loop\n",
        "for row in range(len(location)):\n",
        "  row_lst =[]\n",
        "  #set origin based on Place ID\n",
        "  origin = str(location[row])\n",
        "  for column in range(len(location)):\n",
        "    if row == 0:\n",
        "      #create header with the label dataset\n",
        "      row_lst.append(label[column])\n",
        "\n",
        "    elif column == 0:\n",
        "      row_lst.append(label[row])\n",
        "\n",
        "    else:\n",
        "      #set destination based on Place ID\n",
        "      dest = str(location[column])\n",
        "      \n",
        "      #note the place_id tag since we will be working with place IDs\n",
        "      #units are imperial\n",
        "      #mode is walking\n",
        "      url = 'https://maps.googleapis.com/maps/api/distancematrix/json?origins=place_id:'+origin+'&destinations=place_id:'+dest+'&units=imperial&key='+api_key+'&mode=walking'\n",
        "      \n",
        "      response = requests.request(\"GET\", url)\n",
        "      temp = json.loads(response.text)\n",
        "      \n",
        "      #adds the \"value\" for the distance (meters)\n",
        "      #for seconds change to: row_lst.append(temp[\"rows\"][0][\"elements\"][0]['time']['value'])\n",
        "      row_lst.append(temp[\"rows\"][0][\"elements\"][0]['distance']['value'])\n",
        "\n",
        "  distance_matrix.append(row_lst)\n"
      ],
      "metadata": {
        "id": "4fTQN3Bm4wna"
      },
      "execution_count": 8,
      "outputs": []
    },
    {
      "cell_type": "markdown",
      "source": [
        "## Return distance matrix as csv"
      ],
      "metadata": {
        "id": "AgPDznE4lWWE"
      }
    },
    {
      "cell_type": "code",
      "source": [
        "df_distance = pd.DataFrame.from_records(distance_matrix)\n",
        "df_distance.to_csv('DataCrawlDistanceMatrix.csv')"
      ],
      "metadata": {
        "id": "ETuCnW3vawls"
      },
      "execution_count": 9,
      "outputs": []
    },
    {
      "cell_type": "markdown",
      "source": [
        "# Multiple coordinates and/or keywords"
      ],
      "metadata": {
        "id": "ZTM_Z1rfMSkC"
      }
    },
    {
      "cell_type": "code",
      "source": [
        "'''\n",
        "final_data = []\n",
        "coordinates = ['40.7956, -77.8597']   #add more items as needed\n",
        "keywords = ['bar']                    #add more items as needed\n",
        "\n",
        "for coordinate in coordinates:\n",
        "    for keyword in keywords:\n",
        "        url = 'https://maps.googleapis.com/maps/api/place/nearbysearch/json?location='+coordinate+'&radius='+str(radius)+'&keyword='+str(keyword)+'&key='+str(api_key)\n",
        "        \n",
        "        while True:\n",
        "          \n",
        "            print(url)\n",
        "            respon = requests.get(url)\n",
        "            jj = json.loads(respon.text)\n",
        "            results = jj['results']\n",
        "\n",
        "            for result in results:\n",
        "              \n",
        "              name = result['name']\n",
        "              place_id = result ['place_id']\n",
        "              lat = result['geometry']['location']['lat']\n",
        "              lng = result['geometry']['location']['lng']\n",
        "              rating = result['rating']\n",
        "              types = result['types']\n",
        "              vicinity = result['vicinity']\n",
        "              print(result)\n",
        "              data = [name, place_id, lat, lng, rating, types, vicinity]\n",
        "              final_data.append(data)\n",
        "            time.sleep(5)\n",
        "            \n",
        "            if 'next_page_token' not in jj:\n",
        "              break\n",
        "            else:\n",
        "              next_page_token = jj['next_page_token']\n",
        "              url = 'https://maps.googleapis.com/maps/api/place/nearbysearch/json?key='+str(api_key)+'&pagetoken='+str(next_page_token)\n",
        "          \n",
        "        print(url)\n",
        "        respon = requests.get(url)\n",
        "        jj = json.loads(respon.text)\n",
        "        results = jj['results']\n",
        "\n",
        "        for result in results:\n",
        "                \n",
        "          name = result['name']\n",
        "          place_id = result ['place_id']\n",
        "          lat = result['geometry']['location']['lat']\n",
        "          lng = result['geometry']['location']['lng']\n",
        "          rating = result['rating']\n",
        "          types = result['types']\n",
        "          vicinity = result['vicinity']\n",
        "          \n",
        "          data = [name, place_id, lat, lng, rating, types, vicinity]\n",
        "          final_data.append(data)\n",
        "          time.sleep(5)\n",
        "'''"
      ],
      "metadata": {
        "id": "C2OO5pNGA_OE"
      },
      "execution_count": null,
      "outputs": []
    }
  ]
}